{
 "cells": [
  {
   "cell_type": "code",
   "execution_count": 55,
   "metadata": {
    "collapsed": false
   },
   "outputs": [],
   "source": [
    "import urllib2, re\n",
    "import sys,os\n",
    "from firebase import firebase\n",
    "import hashlib"
   ]
  },
  {
   "cell_type": "code",
   "execution_count": 56,
   "metadata": {
    "collapsed": true
   },
   "outputs": [],
   "source": [
    "from datetime import datetime"
   ]
  },
  {
   "cell_type": "code",
   "execution_count": 65,
   "metadata": {
    "collapsed": false
   },
   "outputs": [],
   "source": [
    "src_url = 'http://www.mountvernonwa.gov/support/calendar.xml'\n",
    "req = urllib2.Request(src_url)\n",
    "page = urllib2.urlopen(req).read()\n",
    "\n",
    "# source html file\n",
    "htmlFile = open('mountvernongov.html','wb')\n",
    "htmlFile.write(page)\n",
    "htmlFile.close()\n",
    "\n",
    "titleRE = re.compile(r'<title>(.*)</title>')\n",
    "dateRE = re.compile(r'<calendarEvent:EventDates>(.*)</calendarEvent:EventDates>')\n",
    "timesRE = re.compile(r'<calendarEvent:EventTimes>(.*)</calendarEvent:EventTimes>')\n",
    "locationRE = re.compile(r'<calendarEvent:Location>(.*)</calendarEvent:Location>')\n",
    "\n",
    "titles = []\n",
    "dates = []\n",
    "times = []\n",
    "locations = []\n",
    "\n",
    "titles = titleRE.findall(page)\n",
    "D = dateRE.findall(page)\n",
    "times = timesRE.findall(page)\n",
    "L= locationRE.findall(page)\n",
    "\n",
    "\n",
    "titles=titles[2:]\n",
    "times=times[1:]\n",
    "\n",
    "for i in range(1,len(L)):\n",
    "    s = L[i]\n",
    "    s = \" \".join(s.split(\";br /&gt;\"))\n",
    "    s = \",\".join(s.split(\";br/&gt;\"))\n",
    "    s = \"\".join(s.split(\"&lt\"))\n",
    "    s = \"\".join(s.split(\"&gt;\"))\n",
    "    s = \"\".join(s.split(\"&amp;\"))\n",
    "    s = \"\".join(s.split(\"&quot;\"))\n",
    "    s= \" \".join(s.split(\";br\"))\n",
    "    location = s\n",
    "    locations.append(location)\n",
    "    \n",
    "for i in range(1, len(D)): \n",
    "    date = datetime.strptime(D[i],' %B %d, %Y ')\n",
    "    dates.append(date)\n",
    "    \n",
    "\n",
    "# store in firebase\n",
    "f = firebase.FirebaseApplication('https://wa-state-calendar.firebaseio.com')\n",
    "\n",
    "for i in range(len(titles)):\n",
    "    agent = \"Mount Vernon City Council\"\n",
    "    title = titles[i]\n",
    "    date = dates[i]\n",
    "    time = times[i]\n",
    "    if len(time) > 10:\n",
    "        time = \"Flexible/On Appointment\"\n",
    "    location = locations[i]\n",
    "    # use MD5 string as index to avoid duplicates\n",
    "    tmpString = agent+title+committee+\"Mount Vernon\"+date.strftime('%m/%d/%Y')+time+location;\n",
    "    MD5String = hashlib.md5(tmpString).hexdigest()\n",
    "    \n",
    "    f.put('meeting/',MD5String,\n",
    "                {\"MD5index\":MD5String,\n",
    "                 \"title\": title, \n",
    "                 \"date\": date,\n",
    "                 \"time\": time,\n",
    "                 \"location\": location,\n",
    "                 \"cancelOrNot\":\"NA\",\n",
    "                 \"board\": \"NA\",\n",
    "                 \"city\": \"Mount Vernon\",\n",
    "                 \"zipcode\": 98274,\n",
    "                 \"description\": \"NA\",\n",
    "                 \"contactName\": \"NA\",\n",
    "                 \"contactEmail\": \"NA\",\n",
    "                 \"contactPhone\": \"NA\",\n",
    "                 \"weblink\": \"NA\",\n",
    "                 \"summary\": \"NA\"\n",
    "                }\n",
    "            )\n",
    "       \n",
    "\n",
    "# # store data in a file        \n",
    "    #events = []\n",
    "    #for i in range(len(titles)):\n",
    "#    # item = titles[i]+' '+dates[i]+' '+times[i]+' '+zipcodes[i]+ ' '+locations[i]\n",
    "#     item = 'Mount Vernon City Council '+titles[i]+times[i]+' '+locations[i]\n",
    "#     events.append(item)\n",
    "# #events.append(datetime.now().strftime(\"%I:%M %p on %B %d, %Y\"))\n",
    "\n",
    "# webFile = open('crawler_mountvernons.html','wb')\n",
    "# for event in events:\n",
    "#     webFile.write(event)\n",
    "#     webFile.write('\\n')\n",
    "# webFile.close()\n"
   ]
  },
  {
   "cell_type": "code",
   "execution_count": 63,
   "metadata": {
    "collapsed": false
   },
   "outputs": [],
   "source": [
    "src_url = 'http://www.mountvernonwa.gov/support/calendar.xml'\n",
    "req = urllib2.Request(src_url)\n",
    "page = urllib2.urlopen(req).read()\n",
    "\n",
    "# source html file\n",
    "htmlFile = open('mountvernongov.html','wb')\n",
    "htmlFile.write(page)\n",
    "htmlFile.close()\n",
    "\n",
    "titleRE = re.compile(r'<title>(.*)</title>')\n",
    "dateRE = re.compile(r'<calendarEvent:EventDates>(.*)</calendarEvent:EventDates>')\n",
    "timesRE = re.compile(r'<calendarEvent:EventTimes>(.*)</calendarEvent:EventTimes>')\n",
    "locationRE = re.compile(r'<calendarEvent:Location>(.*)</calendarEvent:Location>')\n",
    "\n",
    "titles = []\n",
    "dates = []\n",
    "times = []\n",
    "locations = []\n",
    "\n",
    "titles = titleRE.findall(page)\n",
    "D = dateRE.findall(page)\n",
    "times = timesRE.findall(page)\n",
    "L= locationRE.findall(page)\n",
    "\n",
    "t=len(titles)\n",
    "titles=titles[2:t]\n",
    "t2=len(times)\n",
    "times=times[1:t2]\n",
    "\n",
    "for i in range(1,len(L)):\n",
    "    s = L[i]\n",
    "    s = \" \".join(s.split(\";br /&gt;\"))\n",
    "    s = \",\".join(s.split(\";br/&gt;\"))\n",
    "    s = \"\".join(s.split(\"&lt\"))\n",
    "    s = \"\".join(s.split(\"&gt;\"))\n",
    "    s = \"\".join(s.split(\"&amp;\"))\n",
    "    s = \"\".join(s.split(\"&quot;\"))\n",
    "    s= \" \".join(s.split(\";br\"))\n",
    "    location = s\n",
    "    locations.append(location)\n",
    "    \n",
    "for i in range(1, len(D)): \n",
    "    date = datetime.strptime(D[i],' %B %d, %Y ')\n",
    "    dates.append(date)"
   ]
  },
  {
   "cell_type": "code",
   "execution_count": 64,
   "metadata": {
    "collapsed": false
   },
   "outputs": [
    {
     "name": "stdout",
     "output_type": "stream",
     "text": [
      "[datetime.datetime(2017, 4, 1, 0, 0), datetime.datetime(2017, 4, 3, 0, 0), datetime.datetime(2017, 4, 5, 0, 0), datetime.datetime(2017, 4, 8, 0, 0), datetime.datetime(2017, 4, 12, 0, 0)]\n",
      "['1717 South 13th Street Mount Vernon, WA 98274', '315 Snoqualmie St Mount Vernon, WA 98273', '1805 Continental Place Mount Vernon, WA 98273', '3101 E. Fir Street Mount Vernon, WA 98273', '1805 Continental Place Mount Vernon, WA 98273']\n",
      "['08:30 AM - 05:30 PM', '06:00 PM - 08:00 PM', '07:00 PM - 11:59 PM', '09:00 AM - 11:00 AM', '07:00 PM - 11:59 PM']\n",
      "['Recreation Without Borders:  Spring Has Sprung Consignment and Thrift Store Tour', 'Growing Roses in Skagit County ', 'City Council Study Session', 'Arbor Day at Bakerview Park - Mayor&#39;s Community Wellness Event', 'City Council Meeting']\n"
     ]
    }
   ],
   "source": [
    "print dates\n",
    "print locations\n",
    "print times\n",
    "print titles"
   ]
  }
 ],
 "metadata": {
  "anaconda-cloud": {},
  "kernelspec": {
   "display_name": "Python 2",
   "language": "python",
   "name": "python2"
  },
  "language_info": {
   "codemirror_mode": {
    "name": "ipython",
    "version": 2
   },
   "file_extension": ".py",
   "mimetype": "text/x-python",
   "name": "python",
   "nbconvert_exporter": "python",
   "pygments_lexer": "ipython2",
   "version": "2.7.13"
  }
 },
 "nbformat": 4,
 "nbformat_minor": 0
}
