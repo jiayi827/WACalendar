{
 "cells": [
  {
   "cell_type": "code",
   "execution_count": 1,
   "metadata": {
    "collapsed": false
   },
   "outputs": [],
   "source": [
    "import urllib2, re\n",
    "import sys,os\n",
    "from firebase import firebase\n",
    "import hashlib"
   ]
  },
  {
   "cell_type": "code",
   "execution_count": 29,
   "metadata": {
    "collapsed": true
   },
   "outputs": [],
   "source": [
    "from datetime import datetime"
   ]
  },
  {
   "cell_type": "code",
   "execution_count": 47,
   "metadata": {
    "collapsed": false
   },
   "outputs": [
    {
     "ename": "IndexError",
     "evalue": "list index out of range",
     "output_type": "error",
     "traceback": [
      "\u001b[0;31m---------------------------------------------------------------------------\u001b[0m",
      "\u001b[0;31mIndexError\u001b[0m                                Traceback (most recent call last)",
      "\u001b[0;32m<ipython-input-47-a633b8d61bee>\u001b[0m in \u001b[0;36m<module>\u001b[0;34m()\u001b[0m\n\u001b[1;32m     52\u001b[0m     \u001b[0magent\u001b[0m \u001b[0;34m=\u001b[0m \u001b[0;34m\"Shoreline City Council\"\u001b[0m\u001b[0;34m\u001b[0m\u001b[0m\n\u001b[1;32m     53\u001b[0m     \u001b[0mtitle\u001b[0m \u001b[0;34m=\u001b[0m \u001b[0mtitles\u001b[0m\u001b[0;34m[\u001b[0m\u001b[0mi\u001b[0m\u001b[0;34m]\u001b[0m\u001b[0;34m\u001b[0m\u001b[0m\n\u001b[0;32m---> 54\u001b[0;31m     \u001b[0mcanceled\u001b[0m \u001b[0;34m=\u001b[0m \u001b[0mcancel\u001b[0m\u001b[0;34m[\u001b[0m\u001b[0mi\u001b[0m\u001b[0;34m]\u001b[0m\u001b[0;34m\u001b[0m\u001b[0m\n\u001b[0m\u001b[1;32m     55\u001b[0m     \u001b[0mcommittee\u001b[0m \u001b[0;34m=\u001b[0m \u001b[0mcommittees\u001b[0m\u001b[0;34m[\u001b[0m\u001b[0mi\u001b[0m\u001b[0;34m]\u001b[0m\u001b[0;34m\u001b[0m\u001b[0m\n\u001b[1;32m     56\u001b[0m     \u001b[0mdate\u001b[0m \u001b[0;34m=\u001b[0m \u001b[0mdates\u001b[0m\u001b[0;34m[\u001b[0m\u001b[0mi\u001b[0m\u001b[0;34m]\u001b[0m\u001b[0;34m\u001b[0m\u001b[0m\n",
      "\u001b[0;31mIndexError\u001b[0m: list index out of range"
     ]
    }
   ],
   "source": [
    "src_url = 'http://www.shorelinewa.gov/Home/Components/RssFeeds/RssFeed/View?id=3'\n",
    "req = urllib2.Request(src_url)\n",
    "page = urllib2.urlopen(req).read()\n",
    "\n",
    "# source html file\n",
    "htmlFile = open('shorelinegov.html','wb')\n",
    "htmlFile.write(page)\n",
    "htmlFile.close()\n",
    "\n",
    "p = re.compile(r'<title>(.*)</title>')\n",
    "\n",
    "t = p.findall(page)\n",
    "\n",
    "\n",
    "# clean data\n",
    "cancel = []\n",
    "titles = []\n",
    "committees = []\n",
    "location=[]\n",
    "dates = []\n",
    "times = []\n",
    "\n",
    "for i in range(0,len(t)):\n",
    "    s = t[i]\n",
    "    s = \" \".join(s.split(\";br /&gt;\"))\n",
    "    s = \",\".join(s.split(\";br/&gt;\"))\n",
    "    s = \"\".join(s.split(\"&lt\"))\n",
    "    s = \"\".join(s.split(\"&gt;\"))\n",
    "    s = \"\".join(s.split(\"&amp;\"))\n",
    "    s = \"\".join(s.split(\"&quot;\"))\n",
    "    string = s.split(\"(\")\n",
    "    title=string[0]\n",
    "    titles.append(title)\n",
    "    \n",
    "    if (len(string)>1):\n",
    "        dt=string[1]\n",
    "        dttt=dt.split()\n",
    "        time=dttt[1]+dttt[2]\n",
    "        times.append(time)\n",
    "        date = datetime.strptime(dttt[0],'%m/%d/%Y')\n",
    "        dates.append(date)\n",
    "    else:\n",
    "        dates.append(\"\")\n",
    "        times.append(\"\")\n",
    "        \n",
    "        \n",
    "# store in firebase\n",
    "f = firebase.FirebaseApplication('https://wa-state-calendar.firebaseio.com')\n",
    "\n",
    "# for i in range(len(titles)):\n",
    "for i in range(100):\n",
    "    agent = \"Shoreline City Council\"\n",
    "    title = titles[i]\n",
    "    canceled = cancel[i]\n",
    "    committee = committees[i]\n",
    "    date = dates[i]\n",
    "    time = times[i]\n",
    "    if len(time) > 10:\n",
    "        time = \"Flexible/On Appointment\"\n",
    "    location = locations[i]\n",
    "    # use MD5 string as index to avoid duplicates\n",
    "    tmpString = agent+title+committee+\"Shoreline\"+date.strftime('%m/%d/%Y')+time+location;\n",
    "    MD5String = hashlib.md5(tmpString).hexdigest()\n",
    "    \n",
    "    MD5Write = open('MD5File.txt','a')\n",
    "    if MD5String not in open('MD5File.txt').read():\n",
    "        MD5Write.write(MD5String)\n",
    "        MD5Write.write('\\n')\n",
    "        try:\n",
    "            f.post('meeting/',\n",
    "                {\"MD5index\":MD5String,\n",
    "                 \"title\": title, \n",
    "                 \"date\": date,\n",
    "                 \"time\": time,\n",
    "                 \"location\": location,\n",
    "                 \"cancelOrNot\":canceled,\n",
    "                 \"board\": committee,\n",
    "                 \"city\": \"Shoreline\",\n",
    "                 \"zipcode\":98155,\n",
    "                 \"description\": \"NA\",\n",
    "                 \"contactName\": \"NA\",\n",
    "                 \"contactEmail\": \"NA\",\n",
    "                 \"contactPhone\": \"NA\",\n",
    "                 \"weblink\": \"NA\",\n",
    "                 \"summary\": \"NA\"\n",
    "                }\n",
    "            )\n",
    "        except:\n",
    "            print \"Firabase connection error.\"\n",
    "        MD5Write.close()\n",
    "    else:\n",
    "        pass\n",
    "\n",
    "# store data in a file        \n",
    "events = []\n",
    "for i in range(len(titles)):\n",
    "   # item = titles[i]+' '+dates[i]+' '+times[i]+' '+zipcodes[i]+ ' '+locations[i]\n",
    "    item = 'Shoreline City Council '+titles[i]+times[i]+' '+locations[i]\n",
    "    events.append(item)\n",
    "events.append(datetime.now().strftime(\"%I:%M %p on %B %d, %Y\"))\n",
    "\n",
    "webFile = open('crawler_shoreline.html','wb')\n",
    "for event in events:\n",
    "    webFile.write(event)\n",
    "    webFile.write('\\n')\n",
    "webFile.close()\n"
   ]
  }
 ],
 "metadata": {
  "anaconda-cloud": {},
  "kernelspec": {
   "display_name": "Python 2",
   "language": "python",
   "name": "python2"
  },
  "language_info": {
   "codemirror_mode": {
    "name": "ipython",
    "version": 2
   },
   "file_extension": ".py",
   "mimetype": "text/x-python",
   "name": "python",
   "nbconvert_exporter": "python",
   "pygments_lexer": "ipython2",
   "version": "2.7.13"
  }
 },
 "nbformat": 4,
 "nbformat_minor": 0
}
