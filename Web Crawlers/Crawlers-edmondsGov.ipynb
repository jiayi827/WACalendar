{
 "cells": [
  {
   "cell_type": "code",
   "execution_count": 2,
   "metadata": {
    "collapsed": false
   },
   "outputs": [],
   "source": [
    "import urllib2, re\n",
    "import sys,os\n",
    "from firebase import firebase\n",
    "import hashlib"
   ]
  },
  {
   "cell_type": "code",
   "execution_count": 3,
   "metadata": {
    "collapsed": true
   },
   "outputs": [],
   "source": [
    "from datetime import datetime"
   ]
  },
  {
   "cell_type": "code",
   "execution_count": 4,
   "metadata": {
    "collapsed": false
   },
   "outputs": [
    {
     "ename": "IndexError",
     "evalue": "list index out of range",
     "output_type": "error",
     "traceback": [
      "\u001b[0;31m---------------------------------------------------------------------------\u001b[0m",
      "\u001b[0;31mIndexError\u001b[0m                                Traceback (most recent call last)",
      "\u001b[0;32m<ipython-input-4-9986f0267954>\u001b[0m in \u001b[0;36m<module>\u001b[0;34m()\u001b[0m\n\u001b[1;32m     78\u001b[0m     \u001b[0mcanceled\u001b[0m \u001b[0;34m=\u001b[0m \u001b[0mcancel\u001b[0m\u001b[0;34m[\u001b[0m\u001b[0mi\u001b[0m\u001b[0;34m]\u001b[0m\u001b[0;34m\u001b[0m\u001b[0m\n\u001b[1;32m     79\u001b[0m     \u001b[0mcommittee\u001b[0m \u001b[0;34m=\u001b[0m \u001b[0mcommittees\u001b[0m\u001b[0;34m[\u001b[0m\u001b[0mi\u001b[0m\u001b[0;34m]\u001b[0m\u001b[0;34m\u001b[0m\u001b[0m\n\u001b[0;32m---> 80\u001b[0;31m     \u001b[0mdate\u001b[0m \u001b[0;34m=\u001b[0m \u001b[0mdates\u001b[0m\u001b[0;34m[\u001b[0m\u001b[0mi\u001b[0m\u001b[0;34m]\u001b[0m\u001b[0;34m\u001b[0m\u001b[0m\n\u001b[0m\u001b[1;32m     81\u001b[0m     \u001b[0mtime\u001b[0m \u001b[0;34m=\u001b[0m \u001b[0mtimes\u001b[0m\u001b[0;34m[\u001b[0m\u001b[0mi\u001b[0m\u001b[0;34m]\u001b[0m\u001b[0;34m\u001b[0m\u001b[0m\n\u001b[1;32m     82\u001b[0m     \u001b[0;32mif\u001b[0m \u001b[0mlen\u001b[0m\u001b[0;34m(\u001b[0m\u001b[0mtime\u001b[0m\u001b[0;34m)\u001b[0m \u001b[0;34m>\u001b[0m \u001b[0;36m10\u001b[0m\u001b[0;34m:\u001b[0m\u001b[0;34m\u001b[0m\u001b[0m\n",
      "\u001b[0;31mIndexError\u001b[0m: list index out of range"
     ]
    }
   ],
   "source": [
    "src_url = 'http://www.edmondswa.gov/calendars/city-calendar.feed?type=rss'\n",
    "req = urllib2.Request(src_url)\n",
    "page = urllib2.urlopen(req).read()\n",
    "\n",
    "# source html file\n",
    "htmlFile = open('edmondsgov.html','wb')\n",
    "htmlFile.write(page)\n",
    "htmlFile.close()\n",
    "\n",
    "p = re.compile(r'<title>(.*)</title>')\n",
    "p2 = re.compile(r'<description>(.*) &lt;br/&gt;&lt.*;pm')\n",
    "\n",
    "t = p.findall(page)\n",
    "d = p2.findall(page)\n",
    "\n",
    "\n",
    "# clean data\n",
    "cancel = []\n",
    "titles = []\n",
    "committees = [] \n",
    "for i in range(2,len(t)):\n",
    "    if (t[i][0:8]=='CANCELED'):\n",
    "        cancel.append(\"Yes\")\n",
    "    else :\n",
    "        cancel.append(\"No\")\n",
    "    string = t[i].split(\"&#38;\")\n",
    "    titles.append(string[0])\n",
    "    if (len(string)>1):\n",
    "        committees.append(string[1])\n",
    "    else :\n",
    "        cancel.append(\"No\")\n",
    "    string = t[i].split(\"&#38;\")\n",
    "    titles.append(string[0])\n",
    "    if (len(string)>1):\n",
    "        committees.append(string[1])\n",
    "    else:\n",
    "        committees.append(\"\")\n",
    "dates = []\n",
    "times = []\n",
    "weekdays = []\n",
    "locations = []\n",
    "\n",
    "for i in range(0,len(d)):\n",
    "    s = d[i]\n",
    "    s = \" \".join(s.split(\";br /&gt;\"))\n",
    "    s = \",\".join(s.split(\";br/&gt;\"))\n",
    "    s = \"\".join(s.split(\"&lt\"))\n",
    "    s = \"\".join(s.split(\"&gt;\"))\n",
    "    s = \"\".join(s.split(\"&amp;\"))\n",
    "    s = \"\".join(s.split(\"&quot;\"))\n",
    "\n",
    "    string = s.split(\",\")\n",
    "    j = len(string)-1\n",
    "    time = string[j]\n",
    "    times.append(time)\n",
    "    dateText = string[j-2][1:] + string[j-1]\n",
    "    try:\n",
    "        date = datetime.strptime(dateText,'%B %d %Y')\n",
    "        dates.append(date)\n",
    "    except:\n",
    "        pass\n",
    "    weekday = string[j-3]\n",
    "    weekdays.append(weekday)\n",
    "    if j-4 > 0:\n",
    "        location = string[0]+string[1]\n",
    "        locations.append(location)\n",
    "    else:\n",
    "        locations.append(\"\")\n",
    "\n",
    "\n",
    "# store in firebase\n",
    "f = firebase.FirebaseApplication('https://wa-state-calendar.firebaseio.com')\n",
    "\n",
    "# for i in range(len(titles)):\n",
    "for i in range(100):\n",
    "    agent = \"Edmonds City Council\"\n",
    "    title = titles[i]\n",
    "    canceled = cancel[i]\n",
    "    committee = committees[i]\n",
    "    date = dates[i]\n",
    "    time = times[i]\n",
    "    if len(time) > 10:\n",
    "        time = \"Flexible/On Appointment\"\n",
    "    weekday = weekdays[i]\n",
    "    location = locations[i]\n",
    "    # use MD5 string as index to avoid duplicates\n",
    "    tmpString = agent+title+committee+\"Edmonds\"+date.strftime('%m/%d/%Y')+time+location;\n",
    "    MD5String = hashlib.md5(tmpString).hexdigest()\n",
    "    \n",
    "    MD5Write = open('MD5File.txt','a')\n",
    "    if MD5String not in open('MD5File.txt').read():\n",
    "        MD5Write.write(MD5String)\n",
    "        MD5Write.write('\\n')\n",
    "        try:\n",
    "            f.post('meeting/',\n",
    "                {\"MD5index\":MD5String,\n",
    "                 \"title\": title, \n",
    "                 \"date\": date,\n",
    "                 \"time\": time,\n",
    "                 \"location\": location,\n",
    "                 \"cancelOrNot\":canceled,\n",
    "                 \"board\": committee,\n",
    "                 \"city\": \"Edmonds\",\n",
    "                 \"zipcode\": 98020,\n",
    "                 \"description\": \"NA\",\n",
    "                 \"contactName\": \"NA\",\n",
    "                 \"contactEmail\": \"NA\",\n",
    "                 \"contactPhone\": \"NA\",\n",
    "                 \"weblink\": \"NA\",\n",
    "                 \"summary\": \"NA\"\n",
    "                }\n",
    "            )\n",
    "        except:\n",
    "            print \"Firabase connection error.\"\n",
    "        MD5Write.close()\n",
    "    else:\n",
    "        pass\n",
    "\n",
    "# store data in a file        \n",
    "events = []\n",
    "for i in range(len(titles)):\n",
    "   # item = titles[i]+' '+dates[i]+' '+times[i]+' '+zipcodes[i]+ ' '+locations[i]\n",
    "    item = 'Edmonds City Council '+titles[i]+times[i]+' '+locations[i]\n",
    "    events.append(item)\n",
    "events.append(datetime.now().strftime(\"%I:%M %p on %B %d, %Y\"))\n",
    "\n",
    "webFile = open('crawler_edmondsgov.html','wb')\n",
    "for event in events:\n",
    "    webFile.write(event)\n",
    "    webFile.write('\\n')\n",
    "webFile.close()\n",
    "\n"
   ]
  },
  {
   "cell_type": "code",
   "execution_count": 6,
   "metadata": {
    "collapsed": false
   },
   "outputs": [
    {
     "name": "stdout",
     "output_type": "stream",
     "text": [
      "[]\n",
      "[]\n",
      "['Public Hearing Notice Edmonds City Council', 'Public Hearing Notice Edmonds City Council', 'Diversity Commission', 'Diversity Commission', 'Public Hearing Notice', 'Public Hearing Notice', 'SEPA Determination of Nonsignificance - Proposed code amendment to create a unit subdivision process', 'SEPA Determination of Nonsignificance - Proposed code amendment to create a unit subdivision process', 'Public Hearing Notice - Edmonds City Council', 'Public Hearing Notice - Edmonds City Council', 'Public Hearing Notice - Edmonds City Council ', 'Public Hearing Notice - Edmonds City Council ', 'Special Meeting Notice - Edmonds City Council Town Hall', 'Special Meeting Notice - Edmonds City Council Town Hall', 'Notice of Public Hearing - Lee Brady (Appeal of Business License Denial)', 'Notice of Public Hearing - Lee Brady (Appeal of Business License Denial)', 'Diversity Commission', 'Diversity Commission']\n",
      "[]\n"
     ]
    }
   ],
   "source": [
    "src_url = 'http://www.edmondswa.gov/calendars/city-calendar.feed?type=rss'\n",
    "req = urllib2.Request(src_url)\n",
    "page = urllib2.urlopen(req).read()\n",
    "\n",
    "p = re.compile(r'<title>(.*)</title>')\n",
    "p2 = re.compile(r'<description>(.*) &lt;br/&gt;&lt.*;pm')\n",
    "\n",
    "t = p.findall(page)\n",
    "d = p2.findall(page)\n",
    "\n",
    "\n",
    "# clean data\n",
    "cancel = []\n",
    "titles = []\n",
    "committees = [] \n",
    "for i in range(2,len(t)):\n",
    "    if (t[i][0:8]=='CANCELED'):\n",
    "        cancel.append(\"Yes\")\n",
    "    else :\n",
    "        cancel.append(\"No\")\n",
    "    string = t[i].split(\"&#38;\")\n",
    "    titles.append(string[0])\n",
    "    if (len(string)>1):\n",
    "        committees.append(string[1])\n",
    "    else :\n",
    "        cancel.append(\"No\")\n",
    "    string = t[i].split(\"&#38;\")\n",
    "    titles.append(string[0])\n",
    "    if (len(string)>1):\n",
    "        committees.append(string[1])\n",
    "    else:\n",
    "        committees.append(\"\")\n",
    "        \n",
    "dates = []\n",
    "times = []\n",
    "locations = []\n",
    "\n",
    "for i in range(0,len(d)):\n",
    "    s = d[i]\n",
    "    s = \" \".join(s.split(\";br /&gt;\"))\n",
    "    s = \",\".join(s.split(\";br/&gt;\"))\n",
    "    s = \"\".join(s.split(\"&lt\"))\n",
    "    s = \"\".join(s.split(\"&gt;\"))\n",
    "    s = \"\".join(s.split(\"&amp;\"))\n",
    "    s = \"\".join(s.split(\"&quot;\"))\n",
    "\n",
    "    string = s.split(\",\")\n",
    "    j = len(string)-1\n",
    "    time = string[j]\n",
    "    times.append(time)\n",
    "    dateText = string[j-2][1:] + string[j-1]\n",
    "    try:\n",
    "        date = datetime.strptime(dateText,'%B %d %Y')\n",
    "        dates.append(date)\n",
    "    except:\n",
    "        pass\n",
    "    weekday = string[j-3]\n",
    "    weekdays.append(weekday)\n",
    "    if j-4 > 0:\n",
    "        location = string[0]+string[1]\n",
    "        locations.append(location)\n",
    "    else:\n",
    "        locations.append(\"\")\n",
    "        \n",
    "print locations\n",
    "print times\n",
    "print titles\n",
    "print dates"
   ]
  },
  {
   "cell_type": "code",
   "execution_count": 7,
   "metadata": {
    "collapsed": false
   },
   "outputs": [
    {
     "name": "stdout",
     "output_type": "stream",
     "text": [
      "m\n"
     ]
    }
   ],
   "source": [
    "p=('<![CDATA[Location: <strong>Edmonds</strong> - Edmonds , 98020 , Edmonds , Washington , US<br />Date: March 17, 2017 8:54 am - April 07, 2019 4:30 pm')\n",
    "\n",
    "for i in range(0,len(p)):\n",
    "    s = p[i]\n",
    "    s = \" \".join(s.split(\";br /&gt;\"))\n",
    "    s = \",\".join(s.split(\";br/&gt;\"))\n",
    "    s = \"\".join(s.split(\"&lt\"))\n",
    "    s = \"\".join(s.split(\"&gt;\"))\n",
    "    s = \"\".join(s.split(\"&amp;\"))\n",
    "    s = \"\".join(s.split(\"&quot;\"))\n",
    "    string = s.split(\",\")\n",
    "print s"
   ]
  },
  {
   "cell_type": "code",
   "execution_count": 9,
   "metadata": {
    "collapsed": false
   },
   "outputs": [
    {
     "name": "stdout",
     "output_type": "stream",
     "text": [
      "['Public Hearing Notice Edmonds City Council', 'Public Hearing Notice Edmonds City Council', 'Diversity Commission', 'Diversity Commission', 'Public Hearing Notice', 'Public Hearing Notice', 'SEPA Determination of Nonsignificance - Proposed code amendment to create a unit subdivision process', 'SEPA Determination of Nonsignificance - Proposed code amendment to create a unit subdivision process', 'Public Hearing Notice - Edmonds City Council', 'Public Hearing Notice - Edmonds City Council', 'Public Hearing Notice - Edmonds City Council ', 'Public Hearing Notice - Edmonds City Council ', 'Special Meeting Notice - Edmonds City Council Town Hall', 'Special Meeting Notice - Edmonds City Council Town Hall', 'Notice of Public Hearing - Lee Brady (Appeal of Business License Denial)', 'Notice of Public Hearing - Lee Brady (Appeal of Business License Denial)', 'Diversity Commission', 'Diversity Commission']\n",
      "[]\n"
     ]
    }
   ],
   "source": [
    "p = re.compile(r'<title>(.*)</title>')\n",
    "p2 = re.compile(r'<description>(.*) &lt;br/&gt;&lt.*;Date:')\n",
    "\n",
    "t = p.findall(page)\n",
    "L = p2.findall(page)\n",
    "\n",
    "cancel = []\n",
    "titles = []\n",
    "committees = [] \n",
    "locations=[]\n",
    "\n",
    "for i in range(2,len(t)):\n",
    "    if (t[i][0:8]=='CANCELED'):\n",
    "        cancel.append(\"Yes\")\n",
    "    else :\n",
    "        cancel.append(\"No\")\n",
    "    string = t[i].split(\"&#38;\")\n",
    "    titles.append(string[0])\n",
    "    if (len(string)>1):\n",
    "        committees.append(string[1])\n",
    "    else :\n",
    "        cancel.append(\"No\")\n",
    "    string = t[i].split(\"&#38;\")\n",
    "    titles.append(string[0])\n",
    "    if (len(string)>1):\n",
    "        committees.append(string[1])\n",
    "    else:\n",
    "        committees.append(\"\")\n",
    "\n",
    "for i in range(0,len(L)):\n",
    "    s = L[i]\n",
    "    s = \" \".join(s.split(\";br /&gt;\"))\n",
    "    s = \",\".join(s.split(\";br/&gt;\"))\n",
    "    s = \"\".join(s.split(\"&lt\"))\n",
    "    s = \"\".join(s.split(\"&gt;\"))\n",
    "    s = \"\".join(s.split(\"&amp;\"))\n",
    "    s = \"\".join(s.split(\"&quot;\"))\n",
    "    s.replace(\";\",\",\")\n",
    "    location = s\n",
    "    locations.append(location)\n",
    "\n",
    "print titles\n",
    "print locations"
   ]
  },
  {
   "cell_type": "code",
   "execution_count": 19,
   "metadata": {
    "collapsed": false
   },
   "outputs": [
    {
     "name": "stdout",
     "output_type": "stream",
     "text": [
      "[]\n",
      "['Diversity Commission']\n",
      "[]\n"
     ]
    }
   ],
   "source": [
    "\n",
    "p2 = re.compile(r'<description><!\\[CDATA\\[.*?\\]\\')\n",
    "\n",
    "L = p2.findall(page)\n",
    "\n",
    "locations=[]\n",
    "\n",
    "for i in range(0,len(L)):\n",
    "    s = L[i]\n",
    "    s = \" \".join(s.split(\";br /&gt;\"))\n",
    "    s = \",\".join(s.split(\";br/&gt;\"))\n",
    "    s = \"\".join(s.split(\"&lt\"))\n",
    "    s = \"\".join(s.split(\"&gt;\"))\n",
    "    s = \"\".join(s.split(\"&amp;\"))\n",
    "    s = \"\".join(s.split(\"&quot;\"))\n",
    "    string = s.split(\",\")\n",
    "    location = s\n",
    "    locations.append(location)\n",
    "\n",
    "print locations\n",
    "print string\n",
    "print L"
   ]
  },
  {
   "cell_type": "code",
   "execution_count": null,
   "metadata": {
    "collapsed": true
   },
   "outputs": [],
   "source": [
    "<![CDATA[Location: <strong>City Council Chambers</strong> - 250 5th Ave N , 98020 , Edmonds , WA , USA<br />Date: November 15, 2016 7:00 pm - November 15, 2016 10:00 pm"
   ]
  }
 ],
 "metadata": {
  "anaconda-cloud": {},
  "kernelspec": {
   "display_name": "Python 2",
   "language": "python",
   "name": "python2"
  },
  "language_info": {
   "codemirror_mode": {
    "name": "ipython",
    "version": 2
   },
   "file_extension": ".py",
   "mimetype": "text/x-python",
   "name": "python",
   "nbconvert_exporter": "python",
   "pygments_lexer": "ipython2",
   "version": "2.7.13"
  }
 },
 "nbformat": 4,
 "nbformat_minor": 0
}
