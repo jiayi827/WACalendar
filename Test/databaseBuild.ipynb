{
 "cells": [
  {
   "cell_type": "code",
   "execution_count": 6,
   "metadata": {
    "collapsed": false
   },
   "outputs": [],
   "source": [
    "from firebase import Firebase"
   ]
  },
  {
   "cell_type": "code",
   "execution_count": 16,
   "metadata": {
    "collapsed": true
   },
   "outputs": [],
   "source": [
    "f = Firebase('https://wa-state-calendar.firebaseio.com')"
   ]
  },
  {
   "cell_type": "code",
   "execution_count": 17,
   "metadata": {
    "collapsed": false
   },
   "outputs": [
    {
     "data": {
      "text/plain": [
       "{u'name': u'-Kcg3XHa8CFeHLKyeIE9'}"
      ]
     },
     "execution_count": 17,
     "metadata": {},
     "output_type": "execute_result"
    }
   ],
   "source": [
    "f.child('meeting').push(\n",
    "        {\"indexID\": 1,\n",
    "\t\t\"title\": \"Education Meeting\",\n",
    "\t\t\"date\": \"Feb 10, 2017\",\n",
    "\t\t\"time\": \"14:30:00\",\n",
    "\t\t\"location\": \"University of Washington\",\n",
    "\t\t\"board\": \"Education Committee\",\n",
    "\t\t\"city\": \"Seattle\",\n",
    "\t\t\"zipcode\": 98115,\n",
    "\t\t\"description\": \"Education at UW\",\n",
    "\t\t\"contactName\": \"Yun Hsiao\",\n",
    "\t\t\"contactEmail\": \"yunh26@uw.edu\",\n",
    "\t\t\"contactPhone\": 2073493634,\n",
    "\t\t\"cancelOrNot\": \"no\",\n",
    "\t\t\"weblink\": \"https://uw.publicmeetings\",\n",
    "\t\t\"summary\": \"https://uw.publicmeetings/minute\"\n",
    "        })"
   ]
  },
  {
   "cell_type": "code",
   "execution_count": 18,
   "metadata": {
    "collapsed": false
   },
   "outputs": [
    {
     "data": {
      "text/plain": [
       "{u'name': u'-Kcg3XrffBHRAH6bhLVq'}"
      ]
     },
     "execution_count": 18,
     "metadata": {},
     "output_type": "execute_result"
    }
   ],
   "source": [
    "f.child('meeting').push(\n",
    "        {\"indexID\": 2,\n",
    "\t\t\"title\": \"Environment Meeting\",\n",
    "\t\t\"date\": \"Feb 15, 2017\",\n",
    "\t\t\"time\": \"10:00:00\",\n",
    "\t\t\"location\": \"State University of Washington\",\n",
    "\t\t\"board\": \"Environment Center\",\n",
    "\t\t\"city\": \"Seattle\",\n",
    "\t\t\"zipcode\": 98105,\n",
    "\t\t\"description\": \"Environment pollution management\",\n",
    "\t\t\"contactName\": \"Jiayi Wang\",\n",
    "\t\t\"contactEmail\": \"jiayi827@uw.edu\",\n",
    "\t\t\"contactPhone\": 2076292603,\n",
    "\t\t\"cancelOrNot\": \"no\"\n",
    "        })"
   ]
  },
  {
   "cell_type": "code",
   "execution_count": 19,
   "metadata": {
    "collapsed": false
   },
   "outputs": [
    {
     "data": {
      "text/plain": [
       "{u'name': u'-Kcg3YR-vbvKFJ0VcN41'}"
      ]
     },
     "execution_count": 19,
     "metadata": {},
     "output_type": "execute_result"
    }
   ],
   "source": [
    "f.child('meeting').push(\n",
    "        {\"indexID\": 3,\n",
    "\t\t\"title\": \"Medical Price Meeting\",\n",
    "\t\t\"date\": \"Feb 20, 2017\",\n",
    "\t\t\"time\": \"11:30:00\",\n",
    "\t\t\"location\": \"Public Health School\",\n",
    "\t\t\"board\": \"Medical School\",\n",
    "\t\t\"city\": \"Seattle\",\n",
    "\t\t\"zipcode\": 98105,\n",
    "\t\t\"description\": \"Environment pollution management\",\n",
    "\t\t\"contactName\": \"Tin-Chia Lin\",\n",
    "\t\t\"contactEmail\": \"tcl8@uw.edu\",\n",
    "\t\t\"contactPhone\": 2082926036,\n",
    "\t\t\"cancelOrNot\": \"yes\",\n",
    "        \"weblink\": \"https://uw.publicmeetings/health\",\n",
    "\t\t\"summary\": \"https://uw.publicmeetings/health/minute\"\n",
    "        })"
   ]
  },
  {
   "cell_type": "code",
   "execution_count": null,
   "metadata": {
    "collapsed": true
   },
   "outputs": [],
   "source": []
  }
 ],
 "metadata": {
  "anaconda-cloud": {},
  "kernelspec": {
   "display_name": "Python 2",
   "language": "python",
   "name": "python2"
  },
  "language_info": {
   "codemirror_mode": {
    "name": "ipython",
    "version": 2
   },
   "file_extension": ".py",
   "mimetype": "text/x-python",
   "name": "python",
   "nbconvert_exporter": "python",
   "pygments_lexer": "ipython2",
   "version": "2.7.12"
  }
 },
 "nbformat": 4,
 "nbformat_minor": 1
}
