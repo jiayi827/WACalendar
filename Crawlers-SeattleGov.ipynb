{
 "cells": [
  {
   "cell_type": "code",
   "execution_count": null,
   "metadata": {
    "collapsed": false
   },
   "outputs": [],
   "source": [
    "import urllib2, re\n",
    "import sys,os\n",
    "from apscheduler.schedulers.blocking import BlockingScheduler\n",
    "import MySQLdb"
   ]
  },
  {
   "cell_type": "code",
   "execution_count": null,
   "metadata": {
    "collapsed": true
   },
   "outputs": [],
   "source": [
    "import logging\n",
    "logging.basicConfig()"
   ]
  },
  {
   "cell_type": "code",
   "execution_count": null,
   "metadata": {
    "collapsed": true
   },
   "outputs": [],
   "source": [
    "from datetime import datetime"
   ]
  },
  {
   "cell_type": "code",
   "execution_count": null,
   "metadata": {
    "collapsed": false
   },
   "outputs": [],
   "source": [
    "class MessagePush():\n",
    "    final = 0\n",
    "    def getNews(self):\n",
    "        src_url = 'http://www.trumba.com/calendars/seattle-city-council.rss'\n",
    "        req = urllib2.Request(src_url)\n",
    "        page = urllib2.urlopen(req).read()\n",
    "\n",
    "        # source html file\n",
    "        htmlFile = open('seattlegov.html','wb')\n",
    "        htmlFile.write(page)\n",
    "        htmlFile.close()\n",
    "\n",
    "        p = re.compile(r'<title>(.*)</title>')\n",
    "        p2 = re.compile(r'<description>(.*) &lt;br/&gt;&lt.*;Venue Location')\n",
    "        \n",
    "        t = p.findall(page)\n",
    "        d = p2.findall(page)\n",
    "        \n",
    "        # clean data\n",
    "        cancel = []\n",
    "        titles = []\n",
    "        committees = [] \n",
    "        for i in range(2,len(t)):\n",
    "            if (t[i][0:8]=='CANCELED'):\n",
    "                cancel.append(\"Yes\")\n",
    "            else :\n",
    "                cancel.append(\"No\")\n",
    "            string = t[i].split(\"&#38;\")\n",
    "            titles.append(string[0])\n",
    "            if (len(string)>1):\n",
    "                committees.append(string[1])\n",
    "            else:\n",
    "                committees.append(\"\")\n",
    "        \n",
    "        dates = []\n",
    "        times = []\n",
    "        weekdays = []\n",
    "        locations = []\n",
    "        \n",
    "        for i in range(0,len(d)):\n",
    "            s = d[i]\n",
    "            s = \" \".join(s.split(\";br /&gt;\"))\n",
    "            s = \",\".join(s.split(\";br/&gt;\"))\n",
    "            s = \"\".join(s.split(\"&lt\"))\n",
    "            s = \"\".join(s.split(\"&gt;\"))\n",
    "            s = \"\".join(s.split(\"&amp;\"))\n",
    "            s = \"\".join(s.split(\"&quot;\"))\n",
    "            \n",
    "            string = s.split(\",\")\n",
    "            j = len(string)-1\n",
    "            time = string[j]\n",
    "            if time==' 2pm':\n",
    "                time = '14:00'\n",
    "            times.append(time)\n",
    "            dateText = string[j-2][1:] + string[j-1]\n",
    "            date = datetime.strptime(dateText,'%B %d %Y')\n",
    "            dates.append(date)\n",
    "            weekday = string[j-3]\n",
    "            weekdays.append(weekday)\n",
    "            if j-4 > 0:\n",
    "                location = string[0]+string[1]\n",
    "                locations.append(location)\n",
    "            else:\n",
    "                locations.append(\"\")\n",
    "            \n",
    "        \n",
    "        # store in mySQL\n",
    "        conn = MySQLdb.connect(host='localhost',\n",
    "                       user = 'root', \n",
    "                       passwd='560127910504',\n",
    "                       db = 'DQD_TEST')\n",
    "        x = conn.cursor()\n",
    "        \n",
    "        for i in range(len(titles)):\n",
    "            agent = \"Seattle City Council\"\n",
    "            title = titles[i]\n",
    "            canceled = cancel[i]\n",
    "            committee = committees[i]\n",
    "            date = dates[i]\n",
    "            time = times[i]\n",
    "            weekday = weekdays[i]\n",
    "            location = locations[i]\n",
    "            self.final = self.final+1;\n",
    "            \n",
    "            try:\n",
    "                x.execute(\"INSERT IGNORE INTO Meetings VALUES(%s,%s,%s,%s,%s,%s,%s,%s,%s,%s)\",\\\n",
    "                          (self.final,agent,title,canceled,committee,date,time,weekday,location,\"WA 98124\"))\n",
    "                conn.commit()\n",
    "            except:\n",
    "                conn.rollback()\n",
    "        x.close()  \n",
    " \n",
    "        \n",
    "# store data in a file        \n",
    "        events = []\n",
    "        for i in range(len(titles)):\n",
    "           # item = titles[i]+' '+dates[i]+' '+times[i]+' '+zipcodes[i]+ ' '+locations[i]\n",
    "            item = 'Seattle City Council '+titles[i]+times[i]+' '+locations[i]\n",
    "            events.append(item)\n",
    "        events.append(datetime.now().strftime(\"%I:%M %p on %B %d, %Y\"))\n",
    "\n",
    "        webFile = open('crawler_seattlegov.html','wb')\n",
    "        for event in events:\n",
    "            webFile.write(event)\n",
    "            webFile.write('\\n')\n",
    "        webFile.close()\n",
    "\n",
    "\n",
    "if __name__ == '__main__':\n",
    "#     a = MessagePush()\n",
    "#     print a.getNews()\n",
    "    sched = BlockingScheduler()\n",
    "    job_getNews = MessagePush().getNews\n",
    "    sched.add_job(job_getNews, 'interval', minutes=1, id='job1')\n",
    "    sched.start()\n",
    "    \n",
    "    # sched.remove_job('job1')\n",
    "    # sched.shutdown()"
   ]
  },
  {
   "cell_type": "code",
   "execution_count": null,
   "metadata": {
    "collapsed": true
   },
   "outputs": [],
   "source": []
  },
  {
   "cell_type": "code",
   "execution_count": null,
   "metadata": {
    "collapsed": true
   },
   "outputs": [],
   "source": []
  }
 ],
 "metadata": {
  "anaconda-cloud": {},
  "kernelspec": {
   "display_name": "Python [default]",
   "language": "python",
   "name": "python2"
  },
  "language_info": {
   "codemirror_mode": {
    "name": "ipython",
    "version": 2
   },
   "file_extension": ".py",
   "mimetype": "text/x-python",
   "name": "python",
   "nbconvert_exporter": "python",
   "pygments_lexer": "ipython2",
   "version": "2.7.12"
  }
 },
 "nbformat": 4,
 "nbformat_minor": 0
}
